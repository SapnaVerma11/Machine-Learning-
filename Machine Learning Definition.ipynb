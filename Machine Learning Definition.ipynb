{
 "cells": [
  {
   "cell_type": "markdown",
   "metadata": {},
   "source": [
    "### Machine Learning"
   ]
  },
  {
   "cell_type": "markdown",
   "metadata": {},
   "source": [
    "Machine Learning is a subset of artificial intelligence.In Machine learning we basically makes our machine learn by giving it sample data known as training data so that it can make predictions or decisions based on that trained data.ML is the study of computer algorithms that improve automatically through experience.\n",
    "\n",
    "Machine Learning algorithms are used in wide variety of applications,such as email filtering and computer vision. \n",
    "\n",
    "Examples of Machine Learning\n",
    "1) Image Recognition\n",
    "2) Speech Recognition\n",
    "3) Prediction\n",
    "4) Regression"
   ]
  }
 ],
 "metadata": {
  "kernelspec": {
   "display_name": "Python 3",
   "language": "python",
   "name": "python3"
  },
  "language_info": {
   "codemirror_mode": {
    "name": "ipython",
    "version": 3
   },
   "file_extension": ".py",
   "mimetype": "text/x-python",
   "name": "python",
   "nbconvert_exporter": "python",
   "pygments_lexer": "ipython3",
   "version": "3.7.6"
  }
 },
 "nbformat": 4,
 "nbformat_minor": 4
}
